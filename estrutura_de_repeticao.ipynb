{
 "cells": [
  {
   "cell_type": "markdown",
   "id": "02cf5067",
   "metadata": {},
   "source": [
    "# Estrutura de Repetição FOR\n",
    "O for é uma estrutura de repetição na qual seu ciclo será executado por um tempo ou condição pré-determinados e em uma quantidade de vezes que determinamos. Quando utilizamos o for, precisamos de uma variável para auxiliar a controlar a quantidade de repetições a serem executadas"
   ]
  },
  {
   "cell_type": "markdown",
   "id": "0c92bc48",
   "metadata": {},
   "source": [
    "**1° Caso**\n",
    "\n",
    "A estrutura mais geral da estrutura de repetição FOR está escrita abaixo.\n",
    "Onde onde **for** é a palavra-chave, **i** é uma variável de controle e **range()** uma função de progressão aritmética."
   ]
  },
  {
   "cell_type": "code",
   "execution_count": 15,
   "id": "ced1b616",
   "metadata": {
    "scrolled": true
   },
   "outputs": [
    {
     "name": "stdout",
     "output_type": "stream",
     "text": [
      "1\n",
      "2\n",
      "3\n",
      "4\n",
      "5\n"
     ]
    }
   ],
   "source": [
    "for i in range(1,6): ### os valores dentro de range() compõem um intervalo\n",
    "    print(i)"
   ]
  },
  {
   "cell_type": "markdown",
   "id": "4e06bec0",
   "metadata": {},
   "source": [
    "Exemplo 1.0\n",
    "\n",
    "Para calcular a média das notas de múltiplos alunos. Poderíamos escrever assim:"
   ]
  },
  {
   "cell_type": "code",
   "execution_count": null,
   "id": "85b19282",
   "metadata": {},
   "outputs": [],
   "source": [
    "for i in range(1,6):\n",
    "    n1 = float(input(\"Informe a primeira nota: \"))\n",
    "    n2 = float(input(\"Informe a primeira nota: \"))\n",
    "    print(f'A média do aluno é {(n1 + n2) / 2:.1f}')"
   ]
  },
  {
   "cell_type": "markdown",
   "id": "379d2f09",
   "metadata": {},
   "source": [
    "Exemplo 1.1\n",
    "\n",
    "Faça um programa que realize a leitura de 10 valores inteiros e para cada valor, o programa deve informar se o número é par ou ímpar"
   ]
  },
  {
   "cell_type": "code",
   "execution_count": 2,
   "id": "22753e9b",
   "metadata": {},
   "outputs": [
    {
     "name": "stdout",
     "output_type": "stream",
     "text": [
      "Informe um valor inteiro: 5\n",
      "Valor ímpar!\n",
      "Informe um valor inteiro: 8\n",
      "Valor par!\n",
      "Informe um valor inteiro: 10\n",
      "Valor par!\n",
      "Informe um valor inteiro: 15\n",
      "Valor ímpar!\n"
     ]
    }
   ],
   "source": [
    "for i in range(1, 5):\n",
    "    num = int(input(\"Informe um valor inteiro: \"))\n",
    "    if num % 2 == 0:\n",
    "        print(\"Valor par!\")\n",
    "    else: \n",
    "        print(\"Valor ímpar!\")"
   ]
  },
  {
   "cell_type": "markdown",
   "id": "d2591093",
   "metadata": {},
   "source": [
    "Exercício 1.0\n",
    "\n",
    "Faça um programa que imprima a tabuada do número escolhido pelo usuário utilizando estrutura de repetição."
   ]
  },
  {
   "cell_type": "code",
   "execution_count": 23,
   "id": "c630ef5e",
   "metadata": {},
   "outputs": [
    {
     "name": "stdout",
     "output_type": "stream",
     "text": [
      "Informe o valor da tabuada que você deseja?2\n",
      "2x0 = 0\n",
      "2x1 = 2\n",
      "2x2 = 4\n",
      "2x3 = 6\n",
      "2x4 = 8\n",
      "2x5 = 10\n",
      "2x6 = 12\n",
      "2x7 = 14\n",
      "2x8 = 16\n",
      "2x9 = 18\n",
      "2x10 = 20\n"
     ]
    }
   ],
   "source": [
    "num = int(input(\"Informe o valor da tabuada que você deseja?\"))\n",
    "for i in range(0, 11):\n",
    "    print(f'{num}x{i} = {(i) * num}')"
   ]
  },
  {
   "cell_type": "code",
   "execution_count": null,
   "id": "f3409b06",
   "metadata": {},
   "outputs": [],
   "source": []
  }
 ],
 "metadata": {
  "kernelspec": {
   "display_name": "Python 3 (ipykernel)",
   "language": "python",
   "name": "python3"
  },
  "language_info": {
   "codemirror_mode": {
    "name": "ipython",
    "version": 3
   },
   "file_extension": ".py",
   "mimetype": "text/x-python",
   "name": "python",
   "nbconvert_exporter": "python",
   "pygments_lexer": "ipython3",
   "version": "3.10.6"
  },
  "widgets": {
   "application/vnd.jupyter.widget-state+json": {
    "state": {},
    "version_major": 1,
    "version_minor": 0
   }
  }
 },
 "nbformat": 4,
 "nbformat_minor": 5
}
