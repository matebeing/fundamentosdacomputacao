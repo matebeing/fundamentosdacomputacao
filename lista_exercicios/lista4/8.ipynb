{
 "cells": [
  {
   "cell_type": "markdown",
   "metadata": {},
   "source": [
    "Considere um pais  A com 5.000.000 habitantes e uma taxa de\n",
    "natalidade de 3% ao ano, e um país B com 7.000.000 de habitantes e\n",
    "uma taxa de natalidade de 2% ao ano. Faça um programa que calcule e\n",
    "imprima o tempo necessário para que a população do país A ultrapasse a\n",
    "população do país B."
   ]
  },
  {
   "cell_type": "code",
   "execution_count": 12,
   "metadata": {},
   "outputs": [
    {
     "name": "stdout",
     "output_type": "stream",
     "text": [
      "5000000 7000000 0\n"
     ]
    }
   ],
   "source": [
    "paisA = 5000000\n",
    "paisB = 7000000\n",
    "anos = 0\n",
    "\n",
    "print(paisA, paisB, anos)"
   ]
  },
  {
   "cell_type": "code",
   "execution_count": 13,
   "metadata": {},
   "outputs": [
    {
     "name": "stdout",
     "output_type": "stream",
     "text": [
      "6500000.0 8400000.0\n",
      "8450000.0 10080000.0\n",
      "10985000.0 12096000.0\n",
      "14280500.0 14515200.0\n",
      "18564650.0 17418240.0\n"
     ]
    }
   ],
   "source": [
    "while (paisA < paisB):  \n",
    "    anos += 1\n",
    "    paisA = paisA + (0.3 * paisA)\n",
    "    paisB = paisB + (0.2 * paisB)\n",
    "    \n",
    "    print(paisA, paisB)"
   ]
  },
  {
   "cell_type": "code",
   "execution_count": 14,
   "metadata": {},
   "outputs": [
    {
     "name": "stdout",
     "output_type": "stream",
     "text": [
      "Foram necessários: 5\n"
     ]
    }
   ],
   "source": [
    "print(\"Foram necessários:\", anos)"
   ]
  }
 ],
 "metadata": {
  "kernelspec": {
   "display_name": "Python 3",
   "language": "python",
   "name": "python3"
  },
  "language_info": {
   "codemirror_mode": {
    "name": "ipython",
    "version": 3
   },
   "file_extension": ".py",
   "mimetype": "text/x-python",
   "name": "python",
   "nbconvert_exporter": "python",
   "pygments_lexer": "ipython3",
   "version": "3.12.0"
  }
 },
 "nbformat": 4,
 "nbformat_minor": 2
}
