{
 "cells": [
  {
   "cell_type": "markdown",
   "metadata": {},
   "source": [
    "Faça um programa que, **a partir de um número positivo informado pelo\n",
    "usuário** , **verifique se o número informado é primo** e **exiba essa\n",
    "informação**.\n",
    "Obs.: Um número primo é aquele que só pode ser divisível por 1 e por\n",
    "ele mesmo. Exemplo: 3, 5, 7, 13, ...\n",
    "\n",
    "- a partir de um número positivo informado pelo\n",
    "usuário\n",
    "- verifique se o número informado é primo\n"
   ]
  },
  {
   "cell_type": "code",
   "execution_count": 90,
   "metadata": {},
   "outputs": [
    {
     "name": "stdout",
     "output_type": "stream",
     "text": [
      "13 O número é primo.\n"
     ]
    }
   ],
   "source": [
    "num = int(input(\"Digite um número positivo: \"))\n",
    "\n",
    "if num <= 1:\n",
    "    print(\"O número não é primo.\")\n",
    "else:\n",
    "    is_prime = True\n",
    "    for i in range(2, num): # 4 % 2 = 0/ 4 % 3 = 1 / 4 % 4 = 0 | 3 | 3 % 2 = 1 / 3 % 3 = 0 \n",
    "        if num % i == 0:\n",
    "            is_prime = False\n",
    "            print(i)\n",
    "            break\n",
    "    if is_prime:\n",
    "        print(num, \"O número é primo.\")\n",
    "    else:\n",
    "        print(num, \"O número não é primo.\")"
   ]
  }
 ],
 "metadata": {
  "kernelspec": {
   "display_name": "Python 3",
   "language": "python",
   "name": "python3"
  },
  "language_info": {
   "codemirror_mode": {
    "name": "ipython",
    "version": 3
   },
   "file_extension": ".py",
   "mimetype": "text/x-python",
   "name": "python",
   "nbconvert_exporter": "python",
   "pygments_lexer": "ipython3",
   "version": "3.12.0"
  }
 },
 "nbformat": 4,
 "nbformat_minor": 2
}
