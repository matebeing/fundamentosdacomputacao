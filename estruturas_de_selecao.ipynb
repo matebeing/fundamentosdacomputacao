{
 "cells": [
  {
   "cell_type": "markdown",
   "metadata": {},
   "source": [
    "# Estruturas de Seleção\n",
    "Uma estrutura de seleção é uma instrução de programação que permite que o programa execute diferentes ações com base em diferentes condições. A estrutura de seleção mais comum é o `if`, que permite que o programa execute um bloco de código se uma determinada condição for verdadeira. Além disso, existem outras estruturas de seleção, como `if-else`, `if-elif-else`, `switch-case`, entre outras, que permitem que o programa execute diferentes ações com base em diferentes condições ou valores. No Python, a estrutura de seleção mais comum é o `if`, que pode ser usado sozinho ou em conjunto com outras estruturas de seleção."
   ]
  },
  {
   "cell_type": "markdown",
   "metadata": {},
   "source": [
    "### Estrutura Condicional IF"
   ]
  },
  {
   "cell_type": "code",
   "execution_count": 1,
   "metadata": {},
   "outputs": [
    {
     "name": "stdout",
     "output_type": "stream",
     "text": [
      "Valor negativo.\n"
     ]
    }
   ],
   "source": [
    "### Exemplo 1\n",
    "\n",
    "num = int(input('Informe um valor: '))\n",
    "if num > 0:\n",
    "    print('Valor positivo.')\n",
    "elif num == 0:\n",
    "    print('Valores iguais.')\n",
    "else:\n",
    "    print('Valor negativo.')\n"
   ]
  },
  {
   "cell_type": "markdown",
   "metadata": {},
   "source": [
    "### Estrutura Condicional SWITCH-CASE"
   ]
  },
  {
   "cell_type": "code",
   "execution_count": 2,
   "metadata": {},
   "outputs": [
    {
     "name": "stdout",
     "output_type": "stream",
     "text": [
      "0.4\n"
     ]
    }
   ],
   "source": [
    "## EXEMPLO 2\n",
    "\n",
    "x = int(input(\"Informe o primeiro valor: \"))\n",
    "y = int(input(\"Informe o segundo valor: \"))\n",
    "operation = int(input(\"Escolha uma das seguintes operações: \\n 1 - Adição \\n 2 - Subtração \\n 3 - Divisão \\n 4 - Multiplicação \\n\\n >> \"))\n",
    "\n",
    "match operation:\n",
    "\tcase 1:\n",
    "\t\tprint(x + y)\n",
    "\tcase 2:\n",
    "\t\tprint(x - y)\n",
    "\tcase 3:\n",
    "\t\tif y != 0:\n",
    "\t\t\tprint(x / y)\n",
    "\t\telse:\n",
    "\t\t\tprint(\"Não é possível dividir \" + str(x) + \" por 0\")\n",
    "\tcase 4: \n",
    "\t\tprint(x * y)\n",
    "\tcase _:\n",
    "\t\tprint(\"Operação inválida.\")\n",
    "\n"
   ]
  }
 ],
 "metadata": {
  "kernelspec": {
   "display_name": "Python 3",
   "language": "python",
   "name": "python3"
  },
  "language_info": {
   "codemirror_mode": {
    "name": "ipython",
    "version": 3
   },
   "file_extension": ".py",
   "mimetype": "text/x-python",
   "name": "python",
   "nbconvert_exporter": "python",
   "pygments_lexer": "ipython3",
   "version": "3.12.0"
  }
 },
 "nbformat": 4,
 "nbformat_minor": 2
}
