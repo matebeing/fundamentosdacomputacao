{
 "cells": [
  {
   "cell_type": "markdown",
   "id": "c85bdd5e",
   "metadata": {},
   "source": [
    "# Estrutura de Repetição FOR\n",
    "O for é uma estrutura de repetição na qual seu ciclo será executado por um tempo ou condição pré-determinados e em uma quantidade de vezes que determinamos. Quando utilizamos o for, precisamos de uma variável para auxiliar a controlar a quantidade de repetições a serem executadas"
   ]
  },
  {
   "cell_type": "markdown",
   "id": "f5b20cda",
   "metadata": {},
   "source": [
    "**1° Caso**\n",
    "\n",
    "A estrutura mais geral da estrutura de repetição FOR está escrita abaixo.\n",
    "Onde onde **for** é a palavra-chave, **i** é uma variável de controle e **range()** uma função de progressão aritmética."
   ]
  },
  {
   "cell_type": "code",
   "execution_count": 10,
   "id": "aec6374a",
   "metadata": {
    "scrolled": true
   },
   "outputs": [
    {
     "name": "stdout",
     "output_type": "stream",
     "text": [
      "1\n",
      "2\n",
      "3\n",
      "4\n",
      "5\n"
     ]
    }
   ],
   "source": [
    "for i in range(1,6): ### os valores dentro de range() compõem um intervalo\n",
    "    print(i)"
   ]
  },
  {
   "cell_type": "markdown",
   "id": "5b0ec0a2",
   "metadata": {},
   "source": [
    "Exemplo\n",
    "\n",
    "Para calcular a média das notas de múltiplos alunos. Poderíamos escrever assim:"
   ]
  },
  {
   "cell_type": "code",
   "execution_count": null,
   "id": "94d50a14",
   "metadata": {},
   "outputs": [],
   "source": [
    "for i in range(1,6):\n",
    "    n1 = float(input(\"Informe a primeira nota: \"))\n",
    "    n2 = float(input(\"Informe a primeira nota: \"))\n",
    "    print(f'A média do aluno é {(n1 + n2) / 2:.1f}')"
   ]
  }
 ],
 "metadata": {
  "kernelspec": {
   "display_name": "Python 3 (ipykernel)",
   "language": "python",
   "name": "python3"
  },
  "language_info": {
   "codemirror_mode": {
    "name": "ipython",
    "version": 3
   },
   "file_extension": ".py",
   "mimetype": "text/x-python",
   "name": "python",
   "nbconvert_exporter": "python",
   "pygments_lexer": "ipython3",
   "version": "3.10.6"
  },
  "widgets": {
   "application/vnd.jupyter.widget-state+json": {
    "state": {},
    "version_major": 1,
    "version_minor": 0
   }
  }
 },
 "nbformat": 4,
 "nbformat_minor": 5
}
